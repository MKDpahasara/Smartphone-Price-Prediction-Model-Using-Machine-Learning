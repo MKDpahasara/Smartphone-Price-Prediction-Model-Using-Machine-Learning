{
 "cells": [
  {
   "cell_type": "code",
   "execution_count": null,
   "id": "dc00ac68-3fa4-4c34-822b-cce0b16636aa",
   "metadata": {},
   "outputs": [],
   "source": [
    "!pip install numpy\n",
    "!pip install pandas"
   ]
  },
  {
   "cell_type": "code",
   "execution_count": null,
   "id": "64393ded-39b7-46b5-976d-1a1d3896091b",
   "metadata": {},
   "outputs": [],
   "source": [
    "import pandas as pd\n",
    "import numpy as np"
   ]
  },
  {
   "cell_type": "code",
   "execution_count": null,
   "id": "cfdb1bb5-e86d-4af7-a0fe-36d0efdfa14e",
   "metadata": {},
   "outputs": [],
   "source": [
    "url = \"https://raw.githubusercontent.com/MKDpahasara/mobile-price-prediction-model/main/Mobile%20phone%20price.csv\"\n",
    "df = pd.read_csv(url, encoding='latin-1')\n",
    "df.head()"
   ]
  },
  {
   "cell_type": "code",
   "execution_count": null,
   "id": "11de91c7",
   "metadata": {},
   "outputs": [],
   "source": [
    "df.shape"
   ]
  },
  {
   "cell_type": "code",
   "execution_count": null,
   "id": "6f7484dd",
   "metadata": {},
   "outputs": [],
   "source": [
    "df.isnull().sum()"
   ]
  },
  {
   "cell_type": "code",
   "execution_count": null,
   "id": "ab3f2bc3",
   "metadata": {},
   "outputs": [],
   "source": [
    "df.info()"
   ]
  },
  {
   "cell_type": "markdown",
   "id": "0645b95a",
   "metadata": {},
   "source": [
    "## Rename First column"
   ]
  },
  {
   "cell_type": "code",
   "execution_count": null,
   "id": "f261bca8",
   "metadata": {},
   "outputs": [],
   "source": [
    "df.rename(columns={'ï»¿BRAND': 'Brand'}, inplace=True)\n",
    "df"
   ]
  },
  {
   "cell_type": "markdown",
   "id": "66e91fc1",
   "metadata": {},
   "source": [
    "## create new column with main camera (mp)"
   ]
  },
  {
   "cell_type": "code",
   "execution_count": null,
   "id": "acc9a8ae",
   "metadata": {
    "scrolled": true
   },
   "outputs": [],
   "source": [
    "import re\n",
    "def extract_main_camera(row):\n",
    "    megapixels = re.split(r'\\s*\\+\\s*', str(row['Camera (MP)']))\n",
    "    for mp in megapixels:\n",
    "        if re.match(r'^\\d+MP$', mp):\n",
    "            return int(re.match(r'^(\\d+)MP$', mp).group(1)) \n",
    "        elif re.match(r'^\\d+(\\.\\d+)?$', mp): \n",
    "            return int(float(mp)) \n",
    "    return None\n",
    "\n",
    "df['main_camera(MP)'] = df.apply(extract_main_camera, axis=1)\n",
    "\n"
   ]
  },
  {
   "cell_type": "code",
   "execution_count": null,
   "id": "4580d390",
   "metadata": {},
   "outputs": [],
   "source": [
    "df"
   ]
  },
  {
   "cell_type": "markdown",
   "id": "9c772bb5",
   "metadata": {},
   "source": [
    "## Create new column for camera count"
   ]
  },
  {
   "cell_type": "code",
   "execution_count": null,
   "id": "72fc37ff",
   "metadata": {},
   "outputs": [],
   "source": [
    "def count_cameras(row):\n",
    "    megapixels = re.split(r'\\s*\\+\\s*', str(row['Camera (MP)']))\n",
    "    return len(megapixels)\n",
    "\n",
    "df['camera_count'] = df.apply(count_cameras, axis=1)\n",
    "\n"
   ]
  },
  {
   "cell_type": "code",
   "execution_count": null,
   "id": "ed021fb4",
   "metadata": {},
   "outputs": [],
   "source": [
    "df"
   ]
  },
  {
   "cell_type": "markdown",
   "id": "0a37390a",
   "metadata": {},
   "source": [
    "## Remove (GB) from RAM and Storage columns"
   ]
  },
  {
   "cell_type": "code",
   "execution_count": null,
   "id": "b01c4f72",
   "metadata": {
    "scrolled": false
   },
   "outputs": [],
   "source": [
    "df['RAM (GB)'] = df['RAM (GB)'].str.replace('GB','').astype('int32')\n"
   ]
  },
  {
   "cell_type": "code",
   "execution_count": null,
   "id": "a369ad52",
   "metadata": {},
   "outputs": [],
   "source": [
    "df['Storage(GB )'] = df['Storage(GB )'].str.replace('GB','').astype('int32')"
   ]
  },
  {
   "cell_type": "code",
   "execution_count": null,
   "id": "9d859a89",
   "metadata": {},
   "outputs": [],
   "source": [
    "df"
   ]
  },
  {
   "cell_type": "code",
   "execution_count": null,
   "id": "8841ef19",
   "metadata": {},
   "outputs": [],
   "source": [
    "df.describe"
   ]
  },
  {
   "cell_type": "code",
   "execution_count": null,
   "id": "590b6127",
   "metadata": {},
   "outputs": [],
   "source": [
    "df.info()"
   ]
  },
  {
   "cell_type": "code",
   "execution_count": null,
   "id": "efcf0cf3",
   "metadata": {},
   "outputs": [],
   "source": [
    "df['Price($)'] = df['Price($)'].replace('[\\$,]', '', regex=True).astype(int)\n"
   ]
  },
  {
   "cell_type": "code",
   "execution_count": null,
   "id": "657a87ab",
   "metadata": {},
   "outputs": [],
   "source": [
    "df.info()"
   ]
  },
  {
   "cell_type": "markdown",
   "id": "e6a1976a",
   "metadata": {},
   "source": [
    "## check correlation between features and target"
   ]
  },
  {
   "cell_type": "code",
   "execution_count": null,
   "id": "ebb2260d",
   "metadata": {},
   "outputs": [],
   "source": [
    "df.corr()['Price($)']"
   ]
  },
  {
   "cell_type": "markdown",
   "id": "d2909098",
   "metadata": {},
   "source": [
    "## Including brands with values count less than 7 in the \"Other\" category"
   ]
  },
  {
   "cell_type": "code",
   "execution_count": null,
   "id": "1bf3d40d",
   "metadata": {
    "scrolled": true
   },
   "outputs": [],
   "source": [
    "df['Brand'].value_counts()"
   ]
  },
  {
   "cell_type": "code",
   "execution_count": null,
   "id": "ed37b302",
   "metadata": {},
   "outputs": [],
   "source": [
    "def other_brands(inpt):\n",
    "    if inpt == 'Asus' or inpt == 'LG' or inpt == 'Blackberry' or inpt == 'Sony' or inpt == 'CAT':\n",
    "         return 'other'\n",
    "    else:\n",
    "        return inpt\n",
    "    \n",
    "df['Brand'] = df['Brand'].apply(other_brands)\n",
    "   \n",
    "\n"
   ]
  },
  {
   "cell_type": "code",
   "execution_count": null,
   "id": "4d3b8ba2",
   "metadata": {},
   "outputs": [],
   "source": [
    "df.head(3)"
   ]
  },
  {
   "cell_type": "code",
   "execution_count": null,
   "id": "8d16c7bc",
   "metadata": {},
   "outputs": [],
   "source": [
    "df['Brand'].value_counts()"
   ]
  },
  {
   "cell_type": "code",
   "execution_count": null,
   "id": "da4c7734",
   "metadata": {},
   "outputs": [],
   "source": [
    "len(df['MODEL'].value_counts())"
   ]
  },
  {
   "cell_type": "code",
   "execution_count": null,
   "id": "8c5838a6",
   "metadata": {},
   "outputs": [],
   "source": [
    "df['SCREEN SIZE (Inch)'].value_counts()"
   ]
  },
  {
   "cell_type": "code",
   "execution_count": null,
   "id": "3c2dd862",
   "metadata": {},
   "outputs": [],
   "source": []
  },
  {
   "cell_type": "code",
   "execution_count": null,
   "id": "c2a4e5ac",
   "metadata": {},
   "outputs": [],
   "source": [
    "df = df[~df['SCREEN SIZE (Inch)'].isin(['7.6 (unfolded)', '6.8 + 3.9'])]"
   ]
  },
  {
   "cell_type": "code",
   "execution_count": null,
   "id": "3a171bdb",
   "metadata": {},
   "outputs": [],
   "source": [
    "df['SCREEN SIZE (Inch)'] = df['SCREEN SIZE (Inch)'].astype(float)"
   ]
  },
  {
   "cell_type": "code",
   "execution_count": null,
   "id": "88df185e",
   "metadata": {},
   "outputs": [],
   "source": [
    "df['SCREEN SIZE (Inch)'].value_counts()"
   ]
  },
  {
   "cell_type": "markdown",
   "id": "d528f98e",
   "metadata": {},
   "source": [
    "## Finalize Dataset"
   ]
  },
  {
   "cell_type": "code",
   "execution_count": null,
   "id": "790a5818",
   "metadata": {},
   "outputs": [],
   "source": [
    "df.head(3)"
   ]
  },
  {
   "cell_type": "code",
   "execution_count": null,
   "id": "0490948e",
   "metadata": {},
   "outputs": [],
   "source": [
    "cl_df = df.drop(columns = ['MODEL','Camera (MP)',])\n",
    "cl_df.head(2)"
   ]
  },
  {
   "cell_type": "code",
   "execution_count": null,
   "id": "f08cfdb1",
   "metadata": {},
   "outputs": [],
   "source": [
    "cl_df.info()"
   ]
  },
  {
   "cell_type": "code",
   "execution_count": null,
   "id": "9ae4599c",
   "metadata": {},
   "outputs": [],
   "source": [
    "cl_df = cl_df.recamera_countname(columns={\n",
    "    'Brand': 'brand',\n",
    "    'MODEL': 'model',\n",
    "    'Storage(GB )': 'storage_gb',\n",
    "    'RAM (GB)': 'ram_gb',\n",
    "    'SCREEN SIZE (Inch)': 'screen_size_inch',\n",
    "    'Camera (MP)': 'camera_mp',\n",
    "    'battery Capacity (mah)': 'battery_capacity_mah',\n",
    "    'Price($)': 'price_usd',\n",
    "    'main_camera(MP)': 'main_camera_mp',\n",
    "    'camera_count': 'camera_count'\n",
    "})"
   ]
  },
  {
   "cell_type": "markdown",
   "id": "ceafe5cc",
   "metadata": {},
   "source": [
    "## one hot encoding"
   ]
  },
  {
   "cell_type": "code",
   "execution_count": null,
   "id": "f5c47fde",
   "metadata": {},
   "outputs": [],
   "source": [
    "cl_df = pd.get_dummies(cl_df)"
   ]
  },
  {
   "cell_type": "code",
   "execution_count": null,
   "id": "5f414894",
   "metadata": {},
   "outputs": [],
   "source": [
    "cl_df.head(2)"
   ]
  },
  {
   "cell_type": "code",
   "execution_count": null,
   "id": "03e49339",
   "metadata": {},
   "outputs": [],
   "source": [
    "max(cl_df.camera_count)"
   ]
  },
  {
   "cell_type": "code",
   "execution_count": null,
   "id": "f3bb8dfd",
   "metadata": {},
   "outputs": [],
   "source": [
    "cl_df.shape"
   ]
  },
  {
   "cell_type": "markdown",
   "id": "7171b758",
   "metadata": {},
   "source": [
    "## Feature variables and target variable"
   ]
  },
  {
   "cell_type": "code",
   "execution_count": null,
   "id": "68a9fa2b",
   "metadata": {},
   "outputs": [],
   "source": [
    "X = cl_df.drop('price_usd', axis=1)\n",
    "y = cl_df['price_usd']"
   ]
  },
  {
   "cell_type": "code",
   "execution_count": null,
   "id": "8f87c1e8",
   "metadata": {},
   "outputs": [],
   "source": [
    "!pip install sklearn"
   ]
  },
  {
   "cell_type": "code",
   "execution_count": null,
   "id": "3cc60435",
   "metadata": {},
   "outputs": [],
   "source": [
    "from sklearn.model_selection import train_test_split\n",
    "X_train,X_test,y_train,y_test = train_test_split(X,y,test_size=0.2)"
   ]
  },
  {
   "cell_type": "code",
   "execution_count": null,
   "id": "99c6981b",
   "metadata": {},
   "outputs": [],
   "source": [
    "X_train.shape,X_test.shape"
   ]
  },
  {
   "cell_type": "markdown",
   "id": "f12ee315",
   "metadata": {},
   "source": [
    "## choose best model "
   ]
  },
  {
   "cell_type": "code",
   "execution_count": null,
   "id": "11b33403",
   "metadata": {},
   "outputs": [],
   "source": [
    "def model_acc(model):\n",
    "    model.fit(X_train,y_train)\n",
    "    acc = model.score(X_test,y_test)\n",
    "    print(str(model)+'model accurecy = '+str(acc))"
   ]
  },
  {
   "cell_type": "code",
   "execution_count": null,
   "id": "c2e282f0",
   "metadata": {
    "scrolled": false
   },
   "outputs": [],
   "source": [
    "from sklearn.linear_model import LinearRegression\n",
    "lr = LinearRegression()\n",
    "model_acc(lr)\n",
    "\n",
    "from sklearn.linear_model import Ridge\n",
    "ri = Ridge()\n",
    "model_acc(ri)\n",
    "\n",
    "from sklearn.linear_model import Lasso\n",
    "la = Lasso()\n",
    "model_acc(la)\n",
    "\n",
    "from sklearn.ensemble import RandomForestRegressor\n",
    "rf = RandomForestRegressor()\n",
    "model_acc(rf)"
   ]
  },
  {
   "cell_type": "markdown",
   "id": "2c303411",
   "metadata": {},
   "source": [
    "## Hyperparameter tuning for LinearRegression model"
   ]
  },
  {
   "cell_type": "code",
   "execution_count": null,
   "id": "91a22cbe",
   "metadata": {},
   "outputs": [],
   "source": [
    "from sklearn.model_selection import GridSearchCV\n",
    "parameters={'normalize': [True, False], \n",
    "    'fit_intercept': [True, False],\n",
    "    'n_jobs': [-1]}\n",
    "grid = GridSearchCV(estimator = lr,param_grid = parameters)\n",
    "grid_fit = grid.fit(X_train,y_train)\n",
    "best_model = grid_fit.best_estimator_\n",
    "best_model"
   ]
  },
  {
   "cell_type": "code",
   "execution_count": null,
   "id": "d2cf574a",
   "metadata": {},
   "outputs": [],
   "source": [
    "best_model.score(X_test,y_test)"
   ]
  },
  {
   "cell_type": "code",
   "execution_count": null,
   "id": "bc648e26",
   "metadata": {},
   "outputs": [],
   "source": [
    "import pickle\n",
    "with open('prediction_model_1.pickle','wb')as file:\n",
    "    pickle.dump(best_model,file)"
   ]
  },
  {
   "cell_type": "code",
   "execution_count": null,
   "id": "31c38fb9",
   "metadata": {},
   "outputs": [],
   "source": [
    "cl_df.head()"
   ]
  },
  {
   "cell_type": "code",
   "execution_count": null,
   "id": "af73376d",
   "metadata": {},
   "outputs": [],
   "source": []
  }
 ],
 "metadata": {
  "kernelspec": {
   "display_name": "Python 3 (ipykernel)",
   "language": "python",
   "name": "python3"
  },
  "language_info": {
   "codemirror_mode": {
    "name": "ipython",
    "version": 3
   },
   "file_extension": ".py",
   "mimetype": "text/x-python",
   "name": "python",
   "nbconvert_exporter": "python",
   "pygments_lexer": "ipython3",
   "version": "3.9.12"
  }
 },
 "nbformat": 4,
 "nbformat_minor": 5
}
